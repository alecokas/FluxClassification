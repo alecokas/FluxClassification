{
 "cells": [
  {
   "cell_type": "markdown",
   "metadata": {},
   "source": [
    "### Simple MNIST CNN using Flux\n",
    "Julia version 1.1.0\n",
    "Inspired by: https://github.com/FluxML/model-zoo/blob/master/vision/mnist/conv.jl"
   ]
  },
  {
   "cell_type": "markdown",
   "metadata": {},
   "source": [
    "#### Load the MNIST images:"
   ]
  },
  {
   "cell_type": "code",
   "execution_count": 1,
   "metadata": {},
   "outputs": [],
   "source": [
    "using Flux, Flux.Data.MNIST, Statistics\n",
    "using Flux: onehotbatch, onecold, crossentropy, throttle\n",
    "using Base.Iterators: repeated, partition\n",
    "using StatsBase: countmap\n",
    "\n",
    "train_imgs = Flux.Data.MNIST.images();"
   ]
  },
  {
   "cell_type": "markdown",
   "metadata": {},
   "source": [
    "### Preprocess the data\n",
    "Add one-hot labels and build the dataset as a list of tensors"
   ]
  },
  {
   "cell_type": "code",
   "execution_count": 3,
   "metadata": {},
   "outputs": [],
   "source": [
    "labels = onehotbatch(MNIST.labels(), 0:9)\n",
    "num_train_images = size(train_imgs)[1]\n",
    "\n",
    "# Stratify the training set into batches\n",
    "batch_size = 32\n",
    "train_images = [(cat(float.(train_imgs[i])..., dims = 4), labels[:,i]) for i in partition(1:num_train_images, batch_size)];"
   ]
  },
  {
   "cell_type": "markdown",
   "metadata": {},
   "source": [
    "The ellipse is called a 'splat' and it can be used in a function call or definition where the contents of a tuple list or argument can be separated into list."
   ]
  },
  {
   "cell_type": "code",
   "execution_count": 4,
   "metadata": {},
   "outputs": [],
   "source": [
    "num_test_images = 1000\n",
    "test_labels_categorical = MNIST.labels(:test)[1:num_test_images]\n",
    "\n",
    "train_images = gpu.(train_images)\n",
    "test_images = cat(float.(MNIST.images(:test)[1:num_test_images])..., dims = 4) |> gpu\n",
    "test_labels = onehotbatch(test_labels_categorical, 0:9) |> gpu\n",
    ";"
   ]
  },
  {
   "cell_type": "markdown",
   "metadata": {},
   "source": [
    "### Data Exploration"
   ]
  },
  {
   "cell_type": "code",
   "execution_count": 5,
   "metadata": {},
   "outputs": [
    {
     "name": "stdout",
     "output_type": "stream",
     "text": [
      "Number of images: 60000\n",
      "Image dimensions: (28, 28)\n"
     ]
    }
   ],
   "source": [
    "print(\"Number of images: \"); println(num_train_images)\n",
    "print(\"Image dimensions: \"); println(size(train_imgs[1]))"
   ]
  },
  {
   "cell_type": "markdown",
   "metadata": {},
   "source": [
    "Show the class balance for the training and test sets:"
   ]
  },
  {
   "cell_type": "code",
   "execution_count": 6,
   "metadata": {},
   "outputs": [
    {
     "data": {
      "text/plain": [
       "OrderedCollections.OrderedDict{Int64,Int64} with 10 entries:\n",
       "  0 => 5923\n",
       "  1 => 6742\n",
       "  2 => 5958\n",
       "  3 => 6131\n",
       "  4 => 5842\n",
       "  5 => 5421\n",
       "  6 => 5918\n",
       "  7 => 6265\n",
       "  8 => 5851\n",
       "  9 => 5949"
      ]
     },
     "execution_count": 6,
     "metadata": {},
     "output_type": "execute_result"
    }
   ],
   "source": [
    "sort(countmap(MNIST.labels()))"
   ]
  },
  {
   "cell_type": "code",
   "execution_count": 7,
   "metadata": {},
   "outputs": [
    {
     "data": {
      "text/plain": [
       "OrderedCollections.OrderedDict{Int64,Int64} with 10 entries:\n",
       "  0 => 85\n",
       "  1 => 126\n",
       "  2 => 116\n",
       "  3 => 107\n",
       "  4 => 110\n",
       "  5 => 87\n",
       "  6 => 87\n",
       "  7 => 99\n",
       "  8 => 89\n",
       "  9 => 94"
      ]
     },
     "execution_count": 7,
     "metadata": {},
     "output_type": "execute_result"
    }
   ],
   "source": [
    "sort(countmap(test_labels_categorical))"
   ]
  },
  {
   "cell_type": "markdown",
   "metadata": {},
   "source": [
    "### Build the model\n",
    "Use categorical cross entropy loss, the ADAMs optimizer, and the generic accuracy metric"
   ]
  },
  {
   "cell_type": "code",
   "execution_count": 8,
   "metadata": {},
   "outputs": [],
   "source": [
    "model = Chain(\n",
    "        Conv((3, 3), 1=>32, relu),\n",
    "        Conv((3, 3), 32=>32, relu),\n",
    "        x -> maxpool(x, (2,2)),\n",
    "        Conv((3, 3), 32=>16, relu),\n",
    "        x -> maxpool(x, (2,2)),\n",
    "        Conv((3, 3), 16=>10, relu),\n",
    "        x -> reshape(x, :, size(x, 4)),\n",
    "        Dropout(0.2),\n",
    "        Dense(90, 10),\n",
    "        softmax) |> gpu\n",
    "\n",
    "first_batch = train_images[1][1]\n",
    "model(first_batch)\n",
    "\n",
    "loss(x, y) = crossentropy(model(x), y)\n",
    "accuracy(x, y) = mean(onecold(model(x)) .== onecold(y))\n",
    "\n",
    "evalcb = throttle(() -> @show(accuracy(test_images, test_labels)), 10)\n",
    "optimizer = ADAM();"
   ]
  },
  {
   "cell_type": "markdown",
   "metadata": {},
   "source": [
    "### Train the network"
   ]
  },
  {
   "cell_type": "code",
   "execution_count": 9,
   "metadata": {},
   "outputs": [
    {
     "name": "stdout",
     "output_type": "stream",
     "text": [
      "accuracy(test_images, test_labels) = 0.089\n",
      "accuracy(test_images, test_labels) = 0.507\n",
      "accuracy(test_images, test_labels) = 0.677\n",
      "accuracy(test_images, test_labels) = 0.772\n",
      "accuracy(test_images, test_labels) = 0.799\n",
      "accuracy(test_images, test_labels) = 0.822\n",
      "accuracy(test_images, test_labels) = 0.854\n",
      "accuracy(test_images, test_labels) = 0.882\n",
      "accuracy(test_images, test_labels) = 0.885\n",
      "accuracy(test_images, test_labels) = 0.872\n",
      "accuracy(test_images, test_labels) = 0.903\n",
      "accuracy(test_images, test_labels) = 0.884\n",
      "accuracy(test_images, test_labels) = 0.921\n",
      "accuracy(test_images, test_labels) = 0.925\n",
      "accuracy(test_images, test_labels) = 0.922\n",
      "accuracy(test_images, test_labels) = 0.925\n",
      "accuracy(test_images, test_labels) = 0.924\n",
      "accuracy(test_images, test_labels) = 0.937\n",
      "accuracy(test_images, test_labels) = 0.939\n",
      "accuracy(test_images, test_labels) = 0.951\n",
      "accuracy(test_images, test_labels) = 0.935\n",
      "accuracy(test_images, test_labels) = 0.937\n"
     ]
    }
   ],
   "source": [
    "Flux.train!(loss, params(model), train_images, optimizer, cb = evalcb);"
   ]
  },
  {
   "cell_type": "code",
   "execution_count": null,
   "metadata": {},
   "outputs": [],
   "source": []
  }
 ],
 "metadata": {
  "kernelspec": {
   "display_name": "Julia 1.1.0",
   "language": "julia",
   "name": "julia-1.1"
  },
  "language_info": {
   "file_extension": ".jl",
   "mimetype": "application/julia",
   "name": "julia",
   "version": "1.1.0"
  }
 },
 "nbformat": 4,
 "nbformat_minor": 2
}
